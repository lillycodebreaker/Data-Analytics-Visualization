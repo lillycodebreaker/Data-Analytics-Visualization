{
 "cells": [
  {
   "cell_type": "markdown",
   "metadata": {},
   "source": [
    "# Module 4 homework"
   ]
  },
  {
   "cell_type": "markdown",
   "metadata": {},
   "source": [
    "**This homework has 7 questions.**"
   ]
  },
  {
   "cell_type": "code",
   "execution_count": 59,
   "metadata": {},
   "outputs": [],
   "source": [
    "import numpy as np\n",
    "import pandas as pd\n",
    "from sklearn.dummy import DummyClassifier\n",
    "from sklearn.ensemble import AdaBoostClassifier\n",
    "from sklearn.metrics import make_scorer\n",
    "from sklearn.model_selection import train_test_split\n",
    "from sklearn.tree import DecisionTreeClassifier\n",
    "from sklearn.metrics import (\n",
    "    accuracy_score,\n",
    "    ConfusionMatrixDisplay,\n",
    "    mean_squared_error,\n",
    "    precision_score,\n",
    "    recall_score\n",
    ")\n",
    "from sklearn.metrics import roc_curve"
   ]
  },
  {
   "cell_type": "markdown",
   "metadata": {},
   "source": [
    "In this Homework, we take another look at the Bank Marketing dataset that we have already examined in Module 1."
   ]
  },
  {
   "cell_type": "markdown",
   "metadata": {},
   "source": [
    "## Question 1 (1 points)\n",
    "\n",
    "Load the `bank_data.csv` dataset in a variable named `bank_data`."
   ]
  },
  {
   "cell_type": "markdown",
   "metadata": {},
   "source": [
    "## Answer 1"
   ]
  },
  {
   "cell_type": "code",
   "execution_count": 60,
   "metadata": {},
   "outputs": [
    {
     "data": {
      "text/html": [
       "<div>\n",
       "<style scoped>\n",
       "    .dataframe tbody tr th:only-of-type {\n",
       "        vertical-align: middle;\n",
       "    }\n",
       "\n",
       "    .dataframe tbody tr th {\n",
       "        vertical-align: top;\n",
       "    }\n",
       "\n",
       "    .dataframe thead th {\n",
       "        text-align: right;\n",
       "    }\n",
       "</style>\n",
       "<table border=\"1\" class=\"dataframe\">\n",
       "  <thead>\n",
       "    <tr style=\"text-align: right;\">\n",
       "      <th></th>\n",
       "      <th>age</th>\n",
       "      <th>job</th>\n",
       "      <th>marital</th>\n",
       "      <th>education</th>\n",
       "      <th>default</th>\n",
       "      <th>balance</th>\n",
       "      <th>housing</th>\n",
       "      <th>loan</th>\n",
       "      <th>contact</th>\n",
       "      <th>day</th>\n",
       "      <th>month</th>\n",
       "      <th>duration</th>\n",
       "      <th>campaign</th>\n",
       "      <th>pdays</th>\n",
       "      <th>previous</th>\n",
       "      <th>poutcome</th>\n",
       "      <th>y</th>\n",
       "    </tr>\n",
       "  </thead>\n",
       "  <tbody>\n",
       "    <tr>\n",
       "      <th>0</th>\n",
       "      <td>58</td>\n",
       "      <td>management</td>\n",
       "      <td>married</td>\n",
       "      <td>tertiary</td>\n",
       "      <td>no</td>\n",
       "      <td>2143</td>\n",
       "      <td>yes</td>\n",
       "      <td>no</td>\n",
       "      <td>unknown</td>\n",
       "      <td>5</td>\n",
       "      <td>may</td>\n",
       "      <td>261</td>\n",
       "      <td>1</td>\n",
       "      <td>-1</td>\n",
       "      <td>0</td>\n",
       "      <td>unknown</td>\n",
       "      <td>no</td>\n",
       "    </tr>\n",
       "    <tr>\n",
       "      <th>1</th>\n",
       "      <td>44</td>\n",
       "      <td>technician</td>\n",
       "      <td>single</td>\n",
       "      <td>secondary</td>\n",
       "      <td>no</td>\n",
       "      <td>29</td>\n",
       "      <td>yes</td>\n",
       "      <td>no</td>\n",
       "      <td>unknown</td>\n",
       "      <td>5</td>\n",
       "      <td>may</td>\n",
       "      <td>151</td>\n",
       "      <td>1</td>\n",
       "      <td>-1</td>\n",
       "      <td>0</td>\n",
       "      <td>unknown</td>\n",
       "      <td>no</td>\n",
       "    </tr>\n",
       "    <tr>\n",
       "      <th>2</th>\n",
       "      <td>33</td>\n",
       "      <td>entrepreneur</td>\n",
       "      <td>married</td>\n",
       "      <td>secondary</td>\n",
       "      <td>no</td>\n",
       "      <td>2</td>\n",
       "      <td>yes</td>\n",
       "      <td>yes</td>\n",
       "      <td>unknown</td>\n",
       "      <td>5</td>\n",
       "      <td>may</td>\n",
       "      <td>76</td>\n",
       "      <td>1</td>\n",
       "      <td>-1</td>\n",
       "      <td>0</td>\n",
       "      <td>unknown</td>\n",
       "      <td>no</td>\n",
       "    </tr>\n",
       "    <tr>\n",
       "      <th>3</th>\n",
       "      <td>47</td>\n",
       "      <td>blue-collar</td>\n",
       "      <td>married</td>\n",
       "      <td>unknown</td>\n",
       "      <td>no</td>\n",
       "      <td>1506</td>\n",
       "      <td>yes</td>\n",
       "      <td>no</td>\n",
       "      <td>unknown</td>\n",
       "      <td>5</td>\n",
       "      <td>may</td>\n",
       "      <td>92</td>\n",
       "      <td>1</td>\n",
       "      <td>-1</td>\n",
       "      <td>0</td>\n",
       "      <td>unknown</td>\n",
       "      <td>no</td>\n",
       "    </tr>\n",
       "    <tr>\n",
       "      <th>4</th>\n",
       "      <td>33</td>\n",
       "      <td>unknown</td>\n",
       "      <td>single</td>\n",
       "      <td>unknown</td>\n",
       "      <td>no</td>\n",
       "      <td>1</td>\n",
       "      <td>no</td>\n",
       "      <td>no</td>\n",
       "      <td>unknown</td>\n",
       "      <td>5</td>\n",
       "      <td>may</td>\n",
       "      <td>198</td>\n",
       "      <td>1</td>\n",
       "      <td>-1</td>\n",
       "      <td>0</td>\n",
       "      <td>unknown</td>\n",
       "      <td>no</td>\n",
       "    </tr>\n",
       "  </tbody>\n",
       "</table>\n",
       "</div>"
      ],
      "text/plain": [
       "   age           job  marital  education default  balance housing loan  \\\n",
       "0   58    management  married   tertiary      no     2143     yes   no   \n",
       "1   44    technician   single  secondary      no       29     yes   no   \n",
       "2   33  entrepreneur  married  secondary      no        2     yes  yes   \n",
       "3   47   blue-collar  married    unknown      no     1506     yes   no   \n",
       "4   33       unknown   single    unknown      no        1      no   no   \n",
       "\n",
       "   contact  day month  duration  campaign  pdays  previous poutcome   y  \n",
       "0  unknown    5   may       261         1     -1         0  unknown  no  \n",
       "1  unknown    5   may       151         1     -1         0  unknown  no  \n",
       "2  unknown    5   may        76         1     -1         0  unknown  no  \n",
       "3  unknown    5   may        92         1     -1         0  unknown  no  \n",
       "4  unknown    5   may       198         1     -1         0  unknown  no  "
      ]
     },
     "execution_count": 60,
     "metadata": {},
     "output_type": "execute_result"
    }
   ],
   "source": [
    "bank_data = pd.read_csv('data/bank_data.csv', sep=';')\n",
    "bank_data.head()"
   ]
  },
  {
   "cell_type": "markdown",
   "metadata": {},
   "source": [
    "Like we did in Module 1, we remove some variables that would be hard to handle when using our models in a predictive fashion."
   ]
  },
  {
   "cell_type": "code",
   "execution_count": 61,
   "metadata": {},
   "outputs": [],
   "source": [
    "try:\n",
    "    bank_data.drop(['day', 'month', 'duration', 'pdays', 'poutcome'], axis=1, inplace=True)\n",
    "except NameError:\n",
    "    print('The object `bank_data` does not exist! Did you forget to create it?')"
   ]
  },
  {
   "cell_type": "markdown",
   "metadata": {},
   "source": [
    "Here, we encode the response variable (whether or not a customer subscribed a term deposit with the bank following a marketing campaign) with a binary indicator."
   ]
  },
  {
   "cell_type": "code",
   "execution_count": 62,
   "metadata": {},
   "outputs": [],
   "source": [
    "try:\n",
    "    bank_data[\"y\"] = bank_data['y'].apply(lambda y: 1 if y == 'yes' else 0)\n",
    "    bank_data.head()\n",
    "except NameError:\n",
    "    print('The object `bank_data` does not exist! Did you forget to create it?')"
   ]
  },
  {
   "cell_type": "markdown",
   "metadata": {},
   "source": [
    "## Question 2 (1 points)\n",
    "\n",
    "Create \"dummy\" variables for the categorical predictors in the dataset (also known as \"one-hot encoding\").\n",
    "\n",
    "Reassign the new dataframe to the variable `bank_data`."
   ]
  },
  {
   "cell_type": "markdown",
   "metadata": {},
   "source": [
    "## Answer 2"
   ]
  },
  {
   "cell_type": "code",
   "execution_count": 64,
   "metadata": {},
   "outputs": [
    {
     "data": {
      "text/html": [
       "<div>\n",
       "<style scoped>\n",
       "    .dataframe tbody tr th:only-of-type {\n",
       "        vertical-align: middle;\n",
       "    }\n",
       "\n",
       "    .dataframe tbody tr th {\n",
       "        vertical-align: top;\n",
       "    }\n",
       "\n",
       "    .dataframe thead th {\n",
       "        text-align: right;\n",
       "    }\n",
       "</style>\n",
       "<table border=\"1\" class=\"dataframe\">\n",
       "  <thead>\n",
       "    <tr style=\"text-align: right;\">\n",
       "      <th></th>\n",
       "      <th>age</th>\n",
       "      <th>balance</th>\n",
       "      <th>campaign</th>\n",
       "      <th>previous</th>\n",
       "      <th>y</th>\n",
       "      <th>job_admin.</th>\n",
       "      <th>job_blue-collar</th>\n",
       "      <th>job_entrepreneur</th>\n",
       "      <th>job_housemaid</th>\n",
       "      <th>job_management</th>\n",
       "      <th>...</th>\n",
       "      <th>education_unknown</th>\n",
       "      <th>default_no</th>\n",
       "      <th>default_yes</th>\n",
       "      <th>housing_no</th>\n",
       "      <th>housing_yes</th>\n",
       "      <th>loan_no</th>\n",
       "      <th>loan_yes</th>\n",
       "      <th>contact_cellular</th>\n",
       "      <th>contact_telephone</th>\n",
       "      <th>contact_unknown</th>\n",
       "    </tr>\n",
       "  </thead>\n",
       "  <tbody>\n",
       "    <tr>\n",
       "      <th>0</th>\n",
       "      <td>58</td>\n",
       "      <td>2143</td>\n",
       "      <td>1</td>\n",
       "      <td>0</td>\n",
       "      <td>0</td>\n",
       "      <td>False</td>\n",
       "      <td>False</td>\n",
       "      <td>False</td>\n",
       "      <td>False</td>\n",
       "      <td>True</td>\n",
       "      <td>...</td>\n",
       "      <td>False</td>\n",
       "      <td>True</td>\n",
       "      <td>False</td>\n",
       "      <td>False</td>\n",
       "      <td>True</td>\n",
       "      <td>True</td>\n",
       "      <td>False</td>\n",
       "      <td>False</td>\n",
       "      <td>False</td>\n",
       "      <td>True</td>\n",
       "    </tr>\n",
       "    <tr>\n",
       "      <th>1</th>\n",
       "      <td>44</td>\n",
       "      <td>29</td>\n",
       "      <td>1</td>\n",
       "      <td>0</td>\n",
       "      <td>0</td>\n",
       "      <td>False</td>\n",
       "      <td>False</td>\n",
       "      <td>False</td>\n",
       "      <td>False</td>\n",
       "      <td>False</td>\n",
       "      <td>...</td>\n",
       "      <td>False</td>\n",
       "      <td>True</td>\n",
       "      <td>False</td>\n",
       "      <td>False</td>\n",
       "      <td>True</td>\n",
       "      <td>True</td>\n",
       "      <td>False</td>\n",
       "      <td>False</td>\n",
       "      <td>False</td>\n",
       "      <td>True</td>\n",
       "    </tr>\n",
       "    <tr>\n",
       "      <th>2</th>\n",
       "      <td>33</td>\n",
       "      <td>2</td>\n",
       "      <td>1</td>\n",
       "      <td>0</td>\n",
       "      <td>0</td>\n",
       "      <td>False</td>\n",
       "      <td>False</td>\n",
       "      <td>True</td>\n",
       "      <td>False</td>\n",
       "      <td>False</td>\n",
       "      <td>...</td>\n",
       "      <td>False</td>\n",
       "      <td>True</td>\n",
       "      <td>False</td>\n",
       "      <td>False</td>\n",
       "      <td>True</td>\n",
       "      <td>False</td>\n",
       "      <td>True</td>\n",
       "      <td>False</td>\n",
       "      <td>False</td>\n",
       "      <td>True</td>\n",
       "    </tr>\n",
       "    <tr>\n",
       "      <th>3</th>\n",
       "      <td>47</td>\n",
       "      <td>1506</td>\n",
       "      <td>1</td>\n",
       "      <td>0</td>\n",
       "      <td>0</td>\n",
       "      <td>False</td>\n",
       "      <td>True</td>\n",
       "      <td>False</td>\n",
       "      <td>False</td>\n",
       "      <td>False</td>\n",
       "      <td>...</td>\n",
       "      <td>True</td>\n",
       "      <td>True</td>\n",
       "      <td>False</td>\n",
       "      <td>False</td>\n",
       "      <td>True</td>\n",
       "      <td>True</td>\n",
       "      <td>False</td>\n",
       "      <td>False</td>\n",
       "      <td>False</td>\n",
       "      <td>True</td>\n",
       "    </tr>\n",
       "    <tr>\n",
       "      <th>4</th>\n",
       "      <td>33</td>\n",
       "      <td>1</td>\n",
       "      <td>1</td>\n",
       "      <td>0</td>\n",
       "      <td>0</td>\n",
       "      <td>False</td>\n",
       "      <td>False</td>\n",
       "      <td>False</td>\n",
       "      <td>False</td>\n",
       "      <td>False</td>\n",
       "      <td>...</td>\n",
       "      <td>True</td>\n",
       "      <td>True</td>\n",
       "      <td>False</td>\n",
       "      <td>True</td>\n",
       "      <td>False</td>\n",
       "      <td>True</td>\n",
       "      <td>False</td>\n",
       "      <td>False</td>\n",
       "      <td>False</td>\n",
       "      <td>True</td>\n",
       "    </tr>\n",
       "  </tbody>\n",
       "</table>\n",
       "<p>5 rows × 33 columns</p>\n",
       "</div>"
      ],
      "text/plain": [
       "   age  balance  campaign  previous  y  job_admin.  job_blue-collar  \\\n",
       "0   58     2143         1         0  0       False            False   \n",
       "1   44       29         1         0  0       False            False   \n",
       "2   33        2         1         0  0       False            False   \n",
       "3   47     1506         1         0  0       False             True   \n",
       "4   33        1         1         0  0       False            False   \n",
       "\n",
       "   job_entrepreneur  job_housemaid  job_management  ...  education_unknown  \\\n",
       "0             False          False            True  ...              False   \n",
       "1             False          False           False  ...              False   \n",
       "2              True          False           False  ...              False   \n",
       "3             False          False           False  ...               True   \n",
       "4             False          False           False  ...               True   \n",
       "\n",
       "   default_no  default_yes  housing_no  housing_yes  loan_no  loan_yes  \\\n",
       "0        True        False       False         True     True     False   \n",
       "1        True        False       False         True     True     False   \n",
       "2        True        False       False         True    False      True   \n",
       "3        True        False       False         True     True     False   \n",
       "4        True        False        True        False     True     False   \n",
       "\n",
       "   contact_cellular  contact_telephone  contact_unknown  \n",
       "0             False              False             True  \n",
       "1             False              False             True  \n",
       "2             False              False             True  \n",
       "3             False              False             True  \n",
       "4             False              False             True  \n",
       "\n",
       "[5 rows x 33 columns]"
      ]
     },
     "execution_count": 64,
     "metadata": {},
     "output_type": "execute_result"
    }
   ],
   "source": [
    "bank_data = pd.get_dummies(bank_data, dtype=int)\n",
    "bank_data.head()"
   ]
  },
  {
   "cell_type": "markdown",
   "metadata": {},
   "source": [
    "Let's now separate the predictors from the response variable."
   ]
  },
  {
   "cell_type": "code",
   "execution_count": 65,
   "metadata": {},
   "outputs": [],
   "source": [
    "try:\n",
    "    X = bank_data.drop('y', axis=1)\n",
    "    Y = bank_data['y']\n",
    "except NameError:\n",
    "    print('The object `bank_data` does not exist! Did you forget to create it?')"
   ]
  },
  {
   "cell_type": "markdown",
   "metadata": {},
   "source": [
    "## Question 3 (1 points)\n",
    "\n",
    "Split the data into a training and test set (`X_train, X_test, Y_train, Y_test`).\n",
    "\n",
    "Use `random_state=42` and `test_size=0.25`)."
   ]
  },
  {
   "cell_type": "markdown",
   "metadata": {},
   "source": [
    "## Answer 3"
   ]
  },
  {
   "cell_type": "code",
   "execution_count": 66,
   "metadata": {},
   "outputs": [],
   "source": [
    "X_train, X_test, Y_train, Y_test = train_test_split(X, Y, test_size=0.25, random_state=42)"
   ]
  },
  {
   "cell_type": "markdown",
   "metadata": {},
   "source": [
    "We want to use the available data to build a predictive model that can assist us in making our next marketing campaign more efficient.\n",
    "\n",
    "\n",
    "Here are some quantities to keep in mind. Our department estimates that:\n",
    "\n",
    "- a marketing contact with a potential customer costs around 10 Euros on average\n",
    "\n",
    "- a successful contact (i.e. the customer subscribes a term deposit) generates on average 100 Euros of profits for the bank (say, present value net the cost of marketing).\n",
    "\n",
    "Accordingly, we estimate that:\n",
    "\n",
    "- the value associated with a true negative prediction from our model is 10 Euros (it saves us the waste of 10 Euros associated with the marketing contact)\n",
    "\n",
    "- the value associated with a false positive prediction from our model is -10 Euros\n",
    "\n",
    "- the value associated with a false negative prediction from our model is -100 Euros\n",
    "\n",
    "- the value associated with a true positive prediction from our model is +100 Euros.\n",
    "\n",
    "Let's encode this information in a \"value function\" that we will use later."
   ]
  },
  {
   "cell_type": "code",
   "execution_count": 67,
   "metadata": {},
   "outputs": [],
   "source": [
    "def value_function(y_true, y_pred, tn_value=10, fp_value=-10, fn_value=-100, tp_value=100):\n",
    "    sum_ = y_pred + y_true\n",
    "    diff_ = y_pred - y_true\n",
    "    tn_contrib = tn_value * np.mean((sum_ == 0) & (diff_ == 0))\n",
    "    fp_contrib = fp_value * np.mean((sum_ == 1) & (diff_ == 1))\n",
    "    fn_contrib = fn_value * np.mean((sum_ == 1) & (diff_ == -1))\n",
    "    tp_contrib = tp_value * np.mean((sum_ == 2) & (diff_ == 0))\n",
    "    return tn_contrib + fp_contrib + fn_contrib + tp_contrib"
   ]
  },
  {
   "cell_type": "markdown",
   "metadata": {},
   "source": [
    "## Question 4 (1 points)\n",
    "\n",
    "In this exercise, assume that you have already performed cross-validation for an `AdaBoostClassifier` and found that good values for its parameters are as follows:\n",
    "\n",
    "- `base_estimator=DecisionTreeClassifier(random_state=42, max_depth=5)`\n",
    "\n",
    "- `n_estimators=2000`\n",
    "\n",
    "- `learning_rate=0.80`\n",
    "\n",
    "Fit an `AdaBoostClassifier` on the training data using these parameter values (and `random_state=42`).\n",
    "\n",
    "*Warning: it may take a few minutes to fit this beefy model! Feel free to take a coffee break ;)*"
   ]
  },
  {
   "cell_type": "markdown",
   "metadata": {},
   "source": [
    "## Answer 4"
   ]
  },
  {
   "cell_type": "code",
   "execution_count": null,
   "metadata": {},
   "outputs": [
    {
     "name": "stderr",
     "output_type": "stream",
     "text": [
      "C:\\Users\\yashayi\\AppData\\Local\\anaconda3\\Lib\\site-packages\\sklearn\\ensemble\\_base.py:156: FutureWarning: `base_estimator` was renamed to `estimator` in version 1.2 and will be removed in 1.4.\n",
      "  warnings.warn(\n"
     ]
    }
   ],
   "source": [
    "ada_boost = AdaBoostClassifier(base_estimator=DecisionTreeClassifier(max_depth=5, random_state=42),\n",
    "                               random_state=42, n_estimators=2000, learning_rate=0.80).fit(X_train, Y_train)"
   ]
  },
  {
   "cell_type": "markdown",
   "metadata": {},
   "source": [
    "We will also fit a conventional decision tree for reference."
   ]
  },
  {
   "cell_type": "code",
   "execution_count": null,
   "metadata": {},
   "outputs": [],
   "source": [
    "try:\n",
    "    tree = DecisionTreeClassifier(random_state=42).fit(X_train, Y_train)\n",
    "except NameError:\n",
    "    print('The objects `X_train, Y_train` do not exist!')"
   ]
  },
  {
   "cell_type": "markdown",
   "metadata": {},
   "source": [
    "## Question 5 (1 points)\n",
    "\n",
    "Compute the problem-specific \"value function\" for the `AdaBoostClassifier` and for the `DecisionTreeClassifier`. \n",
    "\n",
    "Which model is performing best with respect to this metric?"
   ]
  },
  {
   "cell_type": "markdown",
   "metadata": {},
   "source": [
    "## Answer 5"
   ]
  },
  {
   "cell_type": "code",
   "execution_count": 42,
   "metadata": {},
   "outputs": [
    {
     "name": "stdout",
     "output_type": "stream",
     "text": [
      "accuracy_score train: 1.0\n",
      "accuracy_score test: 0.86\n",
      "--------------------\n",
      "precision_score train: 1.0\n",
      "precision_score test: 0.39\n",
      "--------------------\n",
      "recall_score train: 1.0\n",
      "recall_score: 0.23\n",
      "------------------------------------------------------------------------\n",
      "accuracy_score train: 1.0\n",
      "accuracy_score test: 0.81\n",
      "--------------------\n",
      "precision_score train: 1.0\n",
      "precision_score test: 0.23\n",
      "--------------------\n",
      "recall_score train: 1.0\n",
      "recall_score test: 0.26\n"
     ]
    }
   ],
   "source": [
    "# your answer here\n",
    "\n",
    "#adaboost:\n",
    "\n",
    "value_function(y_true, y_pred, tn_value=10, fp_value=-10, fn_value=-100, tp_value=100):\n",
    "    \n",
    "print(\"accuracy_score train: \" + round(accuracy_score(Y_train, ada_boost.predict(X_train)), 2).astype(str))\n",
    "print(\"accuracy_score test: \" + round(accuracy_score(Y_test, ada_boost.predict(X_test)), 2).astype(str))\n",
    "print('--------------------')\n",
    "print(\"precision_score train: \" + round(precision_score(Y_train, ada_boost.predict(X_train)), 2).astype(str))\n",
    "print(\"precision_score test: \" + round(precision_score(Y_test, ada_boost.predict(X_test)), 2).astype(str))\n",
    "print('--------------------')\n",
    "print(\"recall_score train: \" + round(recall_score(Y_train, ada_boost.predict(X_train)), 2).astype(str))\n",
    "print(\"recall_score: \" + round(recall_score(Y_test, ada_boost.predict(X_test)), 2).astype(str))\n",
    "print('------------------------------------------------------------------------')\n",
    "#Tree:\n",
    "print(\"accuracy_score train: \" + round(accuracy_score(Y_train, tree.predict(X_train)), 2).astype(str))\n",
    "print(\"accuracy_score test: \" + round(accuracy_score(Y_test, tree.predict(X_test)), 2).astype(str))\n",
    "print('--------------------')\n",
    "print(\"precision_score train: \" + round(precision_score(Y_train, tree.predict(X_train)), 2).astype(str))\n",
    "print(\"precision_score test: \" + round(precision_score(Y_test, tree.predict(X_test)), 2).astype(str))\n",
    "print('--------------------')\n",
    "print(\"recall_score train: \" + round(recall_score(Y_train, tree.predict(X_train)), 2).astype(str))\n",
    "print(\"recall_score test: \" + round(recall_score(Y_test, tree.predict(X_test)), 2).astype(str))"
   ]
  },
  {
   "cell_type": "code",
   "execution_count": 39,
   "metadata": {},
   "outputs": [],
   "source": [
    "# the number for adaboost is better\n",
    "accuracy_score train: 1.0\n",
    "accuracy_score test: 0.86\n",
    "--------------------\n",
    "precision_score train: 1.0\n",
    "precision_score test: 0.39\n",
    "--------------------\n",
    "recall_score train: 1.0\n",
    "recall_score: 0.23\n",
    "------------------------------------------------------------------------\n",
    "accuracy_score train: 1.0\n",
    "accuracy_score test: 0.81\n",
    "--------------------\n",
    "precision_score train: 1.0\n",
    "precision_score test: 0.23\n",
    "--------------------\n",
    "recall_score train: 1.0\n",
    "recall_score test: 0.26"
   ]
  },
  {
   "cell_type": "markdown",
   "metadata": {},
   "source": [
    "Let's now try to quantify what is the monetary impact of using the `AdaBoostClassifier` as opposed to the `DecisionTreeClassifier` on our marketing campaign.\n",
    "\n",
    "First off, for the evaluation of a given model, we will assume that in our marketing campaign we will only contact customers that are predicted as subscribers by our model.\n",
    "\n",
    "With this in mind, let's create a \"marketing campaign profit function\"."
   ]
  },
  {
   "cell_type": "code",
   "execution_count": 40,
   "metadata": {},
   "outputs": [],
   "source": [
    "def marketing_profits(model, X, Y, fp_value=-10, tp_value=100):\n",
    "    tp_contrib = np.sum((model.predict(X) > 0) & (Y > 0)) * tp_value\n",
    "    fp_contrib = np.sum((model.predict(X) > 0) & (Y < 1)) * fp_value\n",
    "    return tp_contrib + fp_contrib"
   ]
  },
  {
   "cell_type": "markdown",
   "metadata": {},
   "source": [
    "## Question 6 (2 points)\n",
    "\n",
    "Based on the test data, by how much (percent-wise) do the profits for our future marketing campaign will increase (or decrease) if we use the `AdaBoostClassifier` ensemble model as opposed to the conventional `DecisionTreeClassifier`?"
   ]
  },
  {
   "cell_type": "markdown",
   "metadata": {},
   "source": [
    "## Answer 6"
   ]
  },
  {
   "cell_type": "code",
   "execution_count": 47,
   "metadata": {},
   "outputs": [
    {
     "name": "stdout",
     "output_type": "stream",
     "text": [
      "1545390\n"
     ]
    }
   ],
   "source": [
    "# your answer here\n",
    "#_ = ConfusionMatrixDisplay.from_estimator(ada_boost, X_test, Y_test)\n",
    "adaboost_profit = marketing_profits(ada_boost, X, Y)\n",
    "print(adaboost_profit)\n",
    "\n",
    "#1545390\n",
    "\n",
    "#ada_boost_profits = marketing_profits(ada_boost, X_test, Y_test)\n",
    "#tree_profits = marketing_profits(tree, X_test, Y_test)"
   ]
  },
  {
   "cell_type": "code",
   "execution_count": 49,
   "metadata": {},
   "outputs": [
    {
     "name": "stdout",
     "output_type": "stream",
     "text": [
      "2098440\n"
     ]
    }
   ],
   "source": [
    "#_ = ConfusionMatrixDisplay.from_estimator(tree, X_test, Y_test)\n",
    "tree_profit = marketing_profits(ada_boost, X, Y, 1180, 358)\n",
    "print(tree_profit)\n",
    "\n",
    "#2098440"
   ]
  },
  {
   "cell_type": "code",
   "execution_count": null,
   "metadata": {},
   "outputs": [],
   "source": [
    " #prof\n",
    "   # On Q6,  by how much (percent-wise) do the profits for our future marketing campaign will increaseyou divide by the ADA boosted value but you want to divide by the tree value in this case. \n",
    "    #variation = ada_boost_profits / tree_profits - 1"
   ]
  },
  {
   "cell_type": "code",
   "execution_count": 50,
   "metadata": {},
   "outputs": [
    {
     "ename": "SyntaxError",
     "evalue": "cannot assign to expression here. Maybe you meant '==' instead of '='? (3293766809.py, line 1)",
     "output_type": "error",
     "traceback": [
      "\u001b[1;36m  Cell \u001b[1;32mIn[50], line 1\u001b[1;36m\u001b[0m\n\u001b[1;33m    (1545390-2098440)/1545390=-35.79%\u001b[0m\n\u001b[1;37m    ^\u001b[0m\n\u001b[1;31mSyntaxError\u001b[0m\u001b[1;31m:\u001b[0m cannot assign to expression here. Maybe you meant '==' instead of '='?\n"
     ]
    }
   ],
   "source": [
    "#mine\n",
    "(ada_boost-tree)/tree\n",
    "(1545390-2098440)/1545390=-35.79%\n",
    "the profit will decrease by 35.79%\n",
    "7.7%"
   ]
  },
  {
   "cell_type": "markdown",
   "metadata": {},
   "source": [
    "## Question 7 (3 points)\n",
    "\n",
    "1. Build an additional classifier of your choice for this problem.\n",
    "   Make sure to follow best practices with cross-validation and evaluation on\n",
    "   the test set!\n",
    "\n",
    "2. Evaluate it against the two models above with respect to\n",
    "\n",
    "   - the `value_function` that we defined\n",
    "   \n",
    "   - and increase/decrease in marketing campaign profits.\n",
    "\n",
    "A few notes:\n",
    "\n",
    "- The dataset is imbalanced, with only about 10% of the observations in the training\n",
    "  data representing a positive marketing contact (i.e., $Y=1$).\n",
    "  Is there any way to address this issue when fitting the model?\n",
    "  See e.g., the `class_weight` parameter of `AdaBoostClassifier` or other\n",
    "  classification algorithms. Chances are that setting `class_weight=\"balanced\"`\n",
    "  will improve the results.\n",
    "\n",
    "- You can also try and use AUC (the area under the ROC curve) as a target metric\n",
    "  for optimization. If you would like to experiment with that, try to set\n",
    "  `scoring=\"roc_auc\"` in `GridSearchCV`.\n",
    "\n",
    "- We could try and optimize our models for our `value_function` directly.\n",
    "  This may further improve our results. To do so, simply set\n",
    "  `scoring=value_function_wrapper` in `GridSearchCV`.\n",
    "  Note that `value_function_wrapper` is defined in the next cell and it is\n",
    "  simply a version of our `value_function` that can be used as a scoring\n",
    "  function by `sklearn`."
   ]
  },
  {
   "cell_type": "code",
   "execution_count": null,
   "metadata": {},
   "outputs": [],
   "source": [
    "def _value_function(y, y_pred, **kwargs):\n",
    "    return value_function(y, y_pred, **kwargs)\n",
    "\n",
    "\n",
    "value_function_wrapper = make_scorer(_value_function)"
   ]
  },
  {
   "cell_type": "markdown",
   "metadata": {},
   "source": [
    "## Answer 7"
   ]
  },
  {
   "cell_type": "code",
   "execution_count": 58,
   "metadata": {},
   "outputs": [
    {
     "name": "stderr",
     "output_type": "stream",
     "text": [
      "C:\\Users\\yashayi\\AppData\\Local\\anaconda3\\Lib\\site-packages\\sklearn\\ensemble\\_base.py:156: FutureWarning: `base_estimator` was renamed to `estimator` in version 1.2 and will be removed in 1.4.\n",
      "  warnings.warn(\n"
     ]
    },
    {
     "ename": "NameError",
     "evalue": "name 'y_test' is not defined",
     "output_type": "error",
     "traceback": [
      "\u001b[1;31m---------------------------------------------------------------------------\u001b[0m",
      "\u001b[1;31mNameError\u001b[0m                                 Traceback (most recent call last)",
      "Cell \u001b[1;32mIn[58], line 19\u001b[0m\n\u001b[0;32m     16\u001b[0m ada_probs2 \u001b[38;5;241m=\u001b[39m ada_boost2\u001b[38;5;241m.\u001b[39mpredict_proba(X_test)[:, \u001b[38;5;241m1\u001b[39m]\n\u001b[0;32m     18\u001b[0m \u001b[38;5;66;03m# Compute ROC curve and AUC for AdaBoost\u001b[39;00m\n\u001b[1;32m---> 19\u001b[0m fpr_ada2, tpr_ada2, _ \u001b[38;5;241m=\u001b[39m roc_curve(y_test, ada_probs2)\n\u001b[0;32m     20\u001b[0m roc_auc_ada2 \u001b[38;5;241m=\u001b[39m auc(fpr_ada, tpr_ada)\n\u001b[0;32m     22\u001b[0m \u001b[38;5;66;03m# Plot ROC curve for AdaBoostClassifier\u001b[39;00m\n",
      "\u001b[1;31mNameError\u001b[0m: name 'y_test' is not defined"
     ]
    }
   ],
   "source": [
    "# your answer here\n",
    "ada_boost2 = AdaBoostClassifier(base_estimator=DecisionTreeClassifier(max_depth=5, random_state=42),\n",
    "                                 random_state=42, n_estimators=2000, learning_rate=0.80)\n",
    "\n",
    "# Determine class weights\n",
    "class_counts = np.bincount(Y_train)\n",
    "class_weights = {i: sum(class_counts) / count for i, count in enumerate(class_counts)}\n",
    "\n",
    "# Adjust sample weights\n",
    "sample_weights = [class_weights[label] for label in Y_train]\n",
    "\n",
    "# Fit AdaBoostClassifier with adjusted sample weights\n",
    "ada_boost2.fit(X_train, Y_train, sample_weight=sample_weights)\n",
    "\n",
    "# Get predicted probabilities\n",
    "ada_probs2 = ada_boost2.predict_proba(X_test)[:, 1]\n",
    "\n",
    "# Compute ROC curve and AUC for AdaBoost\n",
    "fpr_ada2, tpr_ada2, _ = roc_curve(y_test, ada_probs2)\n",
    "roc_auc_ada2 = auc(fpr_ada, tpr_ada)\n",
    "\n",
    "# Plot ROC curve for AdaBoostClassifier\n",
    "plt.figure(figsize=(8, 6))\n",
    "plt.plot(fpr_ada, tpr_ada, color='blue', lw=2, label='AdaBoost2 (AUC = %0.2f)' % roc_auc_ada)\n",
    "plt.plot([0, 1], [0, 1], color='gray', lw=1, linestyle='--')\n",
    "plt.xlim([0.0, 1.0])\n",
    "plt.ylim([0.0, 1.05])\n",
    "plt.xlabel('False Positive Rate')\n",
    "plt.ylabel('True Positive Rate')\n",
    "plt.title('Receiver Operating Characteristic (ROC) - AdaBoost2')\n",
    "plt.legend(loc='lower right')\n",
    "plt.show()"
   ]
  },
  {
   "cell_type": "code",
   "execution_count": null,
   "metadata": {},
   "outputs": [],
   "source": [
    "#prod\n",
    "rf_cv = GridSearchCV(\n",
    "    RandomForestClassifier(\n",
    "        n_estimators=256,\n",
    "        class_weight=\"balanced\",  # account for class imbalance\n",
    "        n_jobs=-1, random_state=42\n",
    "    ),\n",
    "    {\n",
    "        \"max_depth\": [2**i for i in range(5)],\n",
    "        \"max_features\": [2**i for i in range(5)]\n",
    "    },\n",
    "    n_jobs=-1,\n",
    "    cv=2,\n",
    "    scoring=value_function_wrapper  # use custom metric to find the best model\n",
    ").fit(X_train, Y_train)"
   ]
  },
  {
   "cell_type": "code",
   "execution_count": null,
   "metadata": {},
   "outputs": [],
   "source": [
    "# my code Define your RandomForestClassifier and parameter grid\n",
    "param_grid = {\n",
    "        \"max_depth\": [2**i for i in range(5)],\n",
    "        \"max_features\": [2**i for i in range(5)]\n",
    "    }  # Define your parameter grid here\n",
    "rf_classifier = RandomForestClassifier()\n",
    "\n",
    "# Perform grid search with custom scoring function\n",
    "grid_search = GridSearchCV(estimator=rf_classifier, param_grid=param_grid, scoring=value_function_wrapper, cv=5)\n",
    "grid_search.fit(X_train, y_train)\n",
    "\n",
    "# Get the best parameters and best score\n",
    "best_params = grid_search.best_params_\n",
    "best_score = grid_search.best_score_"
   ]
  },
  {
   "cell_type": "code",
   "execution_count": null,
   "metadata": {},
   "outputs": [],
   "source": [
    "param_grid = {\n",
    "    'n_estimators': [2000],\n",
    "    'max_depth': [5],\n",
    "    'random_state': [42],\n",
    "    # Add other parameters as needed\n",
    "}\n",
    "random_forest = RandomForestClassifier(class_weight=\"balanced\")\n",
    "\n",
    "# Create a GridSearchCV object\n",
    "grid_search = GridSearchCV(random_forest, param_grid, scoring=\"roc_auc\", cv=5)\n",
    "\n",
    "# Fit the GridSearchCV object to your data\n",
    "grid_search.fit(X_train, Y_train)\n",
    "\n"
   ]
  }
 ],
 "metadata": {
  "kernelspec": {
   "display_name": "Python 3 (ipykernel)",
   "language": "python",
   "name": "python3"
  },
  "language_info": {
   "codemirror_mode": {
    "name": "ipython",
    "version": 3
   },
   "file_extension": ".py",
   "mimetype": "text/x-python",
   "name": "python",
   "nbconvert_exporter": "python",
   "pygments_lexer": "ipython3",
   "version": "3.11.5"
  }
 },
 "nbformat": 4,
 "nbformat_minor": 4
}
