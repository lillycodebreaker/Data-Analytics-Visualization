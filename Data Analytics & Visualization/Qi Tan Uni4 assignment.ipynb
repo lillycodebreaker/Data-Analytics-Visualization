{
 "cells": [
  {
   "cell_type": "code",
   "execution_count": 72,
   "metadata": {},
   "outputs": [],
   "source": [
    "## Basic Python Data Structures and Numpy\n",
    "\n",
    "#The objective of this assignment is to introduce Jupyter notebook as a development environment and to introduce data structures in Python that provide the basis for much of the data manipulation and, eventually, visualization work that we will perform in later sections.\n",
    "\n",
    "#**Recall the keyboard shortcuts introduced in the video lectures:**\n",
    "#- Convert current chunk to Markown: *Esc* -> *M*\n",
    "#- New code chunk...\n",
    "#    - above current cell: *Esc* -> *A*\n",
    "#    - below current cell: *Esc* -> *B*\n",
    "#- Run code chunk: *Shift+Enter*\n",
    "#- Comment: *ctrl + /* (PC) or *command + /* (Mac)"
   ]
  },
  {
   "cell_type": "markdown",
   "metadata": {},
   "source": [
    "### Task 1: Create and Modify a List\n",
    "We first begin with one of the simplest ways to store data: a list. Recall that when we were working in R, lists could store data of different types (characters, integers, logicals) and they could retain that data type when referenced.\n",
    "\n",
    "Fortunately, Python offers some similar functionality. We will start by exploring some of the basic features of a list"
   ]
  },
  {
   "cell_type": "markdown",
   "metadata": {},
   "source": [
    "*1a) Creating a list*\n",
    "\n",
    "Create a list using square brackets"
   ]
  },
  {
   "cell_type": "code",
   "execution_count": 73,
   "metadata": {},
   "outputs": [],
   "source": [
    "# Create a list\n",
    "my_list = ['c',1,3,True] # Add some elements (characters, integers, logicals) to this list, separated by a comma"
   ]
  },
  {
   "cell_type": "markdown",
   "metadata": {},
   "source": [
    "*1b) Appending a list and selecting the last item*\n",
    "\n",
    "Use *.append()* to an element to the end of that list, then reference it using [-1]. "
   ]
  },
  {
   "cell_type": "code",
   "execution_count": 74,
   "metadata": {},
   "outputs": [
    {
     "data": {
      "text/plain": [
       "2.43"
      ]
     },
     "execution_count": 74,
     "metadata": {},
     "output_type": "execute_result"
    }
   ],
   "source": [
    "my_list.append(2.43)\n",
    "my_list[-1]"
   ]
  },
  {
   "cell_type": "markdown",
   "metadata": {},
   "source": [
    "### Task 2: Subsetting a list\n",
    "*2a:* Select the first element of that list.\n",
    "\n",
    "**Question**: How is this different from R?"
   ]
  },
  {
   "cell_type": "code",
   "execution_count": 75,
   "metadata": {},
   "outputs": [
    {
     "data": {
      "text/plain": [
       "'c'"
      ]
     },
     "execution_count": 75,
     "metadata": {},
     "output_type": "execute_result"
    }
   ],
   "source": [
    "my_list[0]\n",
    "#the python coding is different from R. In Python the subset starts with 0, in R it starts with 1"
   ]
  },
  {
   "cell_type": "markdown",
   "metadata": {},
   "source": [
    "*2b:* Select the last element of that list"
   ]
  },
  {
   "cell_type": "code",
   "execution_count": 76,
   "metadata": {},
   "outputs": [
    {
     "data": {
      "text/plain": [
       "2.43"
      ]
     },
     "execution_count": 76,
     "metadata": {},
     "output_type": "execute_result"
    }
   ],
   "source": [
    "my_list[-1]\n",
    "#we can use -1 to refer to the last element of the list"
   ]
  },
  {
   "cell_type": "markdown",
   "metadata": {},
   "source": [
    "### Task 3: Modifying elements of a list and list comprehension\n",
    "*3a:* Try creating another list of just numbers (e.g. [1, 3, 4]) and then try adding 1 to every element of that list (even if it contains a string). What happens?"
   ]
  },
  {
   "cell_type": "code",
   "execution_count": 77,
   "metadata": {},
   "outputs": [
    {
     "ename": "TypeError",
     "evalue": "can only concatenate list (not \"int\") to list",
     "output_type": "error",
     "traceback": [
      "\u001b[1;31m---------------------------------------------------------------------------\u001b[0m",
      "\u001b[1;31mTypeError\u001b[0m                                 Traceback (most recent call last)",
      "Cell \u001b[1;32mIn[77], line 2\u001b[0m\n\u001b[0;32m      1\u001b[0m list_2 \u001b[38;5;241m=\u001b[39m [\u001b[38;5;241m1\u001b[39m,\u001b[38;5;241m3\u001b[39m,\u001b[38;5;241m4\u001b[39m]\n\u001b[1;32m----> 2\u001b[0m list_2 \u001b[38;5;241m+\u001b[39m \u001b[38;5;241m1\u001b[39m\n",
      "\u001b[1;31mTypeError\u001b[0m: can only concatenate list (not \"int\") to list"
     ]
    }
   ],
   "source": [
    " list_2 = [1,3,4]\n",
    " list_2 + 1\n",
    "#got an error of TypeError: can only concatenate list (not \"int\") to list"
   ]
  },
  {
   "cell_type": "markdown",
   "metadata": {},
   "source": [
    "*3b*: We can try this again using list comprehension. Starting with the following code as a base, complete the previous task; add 1 to each element of list_2."
   ]
  },
  {
   "cell_type": "code",
   "execution_count": 78,
   "metadata": {},
   "outputs": [
    {
     "data": {
      "text/plain": [
       "[2, 4, 5]"
      ]
     },
     "execution_count": 78,
     "metadata": {},
     "output_type": "execute_result"
    }
   ],
   "source": [
    "# Every element of the list x\n",
    "# x is used to just reference each specific element in this list\n",
    "[str(x) + ' BOO' for x in list_2] # we could also do [item for item in list2]\n",
    "new_list_2 = [x + 1 for x in list_2]\n",
    "new_list_2"
   ]
  },
  {
   "cell_type": "markdown",
   "metadata": {},
   "source": [
    "## Numpy: A comparison to R\n",
    "Once you start working with numpy, you will begin to realize that many of its functions and objects bear a striking resemblence to those used in R. \n",
    "\n",
    "We can begin by considering the atomic vector in R. Recall that in R this is just a single data type (e.g. character, integer, float). Numpy Vectors in Python work the same way! We will illustrate this by first creating a numpy array. "
   ]
  },
  {
   "cell_type": "code",
   "execution_count": 79,
   "metadata": {},
   "outputs": [],
   "source": [
    "# !! Don't forget to import numpy!!\n",
    "import numpy as np"
   ]
  },
  {
   "cell_type": "markdown",
   "metadata": {},
   "source": [
    "### Task 4: Creating numpy array\n",
    "Using the list you used in task 3, you can create a numpy array with the following code. What happens when you add a character to that original list and try converting it to a numpy array? How does this compare to R?"
   ]
  },
  {
   "cell_type": "code",
   "execution_count": 80,
   "metadata": {},
   "outputs": [
    {
     "data": {
      "text/plain": [
       "array(['1', '3', '4', 'c'], dtype='<U11')"
      ]
     },
     "execution_count": 80,
     "metadata": {},
     "output_type": "execute_result"
    }
   ],
   "source": [
    "list_2.append('c')\n",
    "list_2\n",
    "my_array = np.array(list_2)\n",
    "my_array\n",
    "# this works the same as in python\n",
    "# If you try to combine different data types into an array in R, R will coerce the elements to a single data type, \n",
    "# following logical to integer to double to character sequence array(['1', '3', '4', 'c'], dtype='<U11')\n",
    "# If you try to combine different data types into an array in Python, Python will upcast the elements\n",
    "# in this case all the integers are converted to charater array(['1', '3', '4', 'c'], dtype='<U11')"
   ]
  },
  {
   "cell_type": "markdown",
   "metadata": {},
   "source": [
    "As with R, there are several built-in functions within numpy that can help us create arrays and matrices. Here we have listed just a few:\n",
    "\n",
    "    - np.arange()\n",
    "    - np.linspace()\n",
    "    - np.random.randn()\n",
    "    - np.random.randint()\n",
    "    - np.random.random()\n",
    "\n",
    "*4b*: We will use np.random.randn() to create a vector and convert it to a 10x10 matrix. Modify the code to create a 20 x 5 matrix"
   ]
  },
  {
   "cell_type": "code",
   "execution_count": 81,
   "metadata": {},
   "outputs": [],
   "source": [
    "my_matrix = np.random.randn(100).reshape(20, 5)"
   ]
  },
  {
   "cell_type": "markdown",
   "metadata": {},
   "source": [
    "### Task 5: Subsetting and summarizing a numpy array\n"
   ]
  },
  {
   "cell_type": "markdown",
   "metadata": {},
   "source": [
    "As with R, we can subset matrices (2d arrays) using the syntax:\n",
    "\n",
    "         my_matrix[row_subset, col_subset]\n",
    "         \n",
    "*row_subset* and/or *col_subset* can be logical arrays or arrays of integers designating the rows/columns we would like to keep. Crucially, if we do not want to subset by row or column, you must include a colon. For example, if we are only filtering by columns (not rows) we would write:\n",
    "\n",
    "        my_matrix[:, col_subset]\n",
    "\n",
    "*5a*: Filter the matrix created in 4b to include only columns 2 and 3."
   ]
  },
  {
   "cell_type": "code",
   "execution_count": 82,
   "metadata": {},
   "outputs": [
    {
     "data": {
      "text/plain": [
       "array([[-0.99536535, -0.00700605],\n",
       "       [-0.27149244, -1.81149968],\n",
       "       [ 0.72208716,  0.44250478],\n",
       "       [-0.22783287,  0.89308314],\n",
       "       [-0.59383159,  0.44316774],\n",
       "       [-1.11829405,  1.69683975],\n",
       "       [-0.43975708, -0.1996581 ],\n",
       "       [-0.59561755,  0.04514049],\n",
       "       [ 0.0073486 ,  0.01151778],\n",
       "       [-0.14967021,  1.66575071],\n",
       "       [ 0.23947712,  2.3721353 ],\n",
       "       [ 2.14738517, -0.96017581],\n",
       "       [-0.07081416, -0.05868315],\n",
       "       [ 1.00507089, -0.17670935],\n",
       "       [ 0.86261446,  0.00672388],\n",
       "       [-2.1161981 ,  0.33602972],\n",
       "       [-1.23279631,  0.97345451],\n",
       "       [-1.0064129 , -0.57688204],\n",
       "       [-0.64574146,  0.95681008],\n",
       "       [-0.52435628, -0.72782881]])"
      ]
     },
     "execution_count": 82,
     "metadata": {},
     "output_type": "execute_result"
    }
   ],
   "source": [
    "my_matrix[:,[2,3]]"
   ]
  },
  {
   "cell_type": "markdown",
   "metadata": {},
   "source": [
    "*5b*: Recall the distinction between functions and methods. For each of the following lines of code, create a comment describing its function, then rewrite it using a method instead of the function."
   ]
  },
  {
   "cell_type": "code",
   "execution_count": 83,
   "metadata": {},
   "outputs": [
    {
     "name": "stdout",
     "output_type": "stream",
     "text": [
      "[ 0.94558533  0.11473025 -0.99536535 -0.00700605  0.84251474  0.39095819\n",
      " -0.49148095 -0.27149244 -1.81149968 -0.17828981 -0.6845612   0.33045493\n",
      "  0.72208716  0.44250478 -1.99060453 -0.36133919  0.88477684 -0.22783287\n",
      "  0.89308314  1.36377811  1.10681234 -0.07139228 -0.59383159  0.44316774\n",
      " -0.30296355 -0.62838951  0.1356999  -1.11829405  1.69683975 -0.41235855\n",
      "  0.75248407 -0.29033951 -0.43975708 -0.1996581   0.63486611  0.42424387\n",
      "  0.14917919 -0.59561755  0.04514049  0.37516209 -3.10087971 -0.98279587\n",
      "  0.0073486   0.01151778  1.70720504 -0.63198164  0.43242489 -0.14967021\n",
      "  1.66575071 -1.01939282  0.40626756 -1.14204846  0.23947712  2.3721353\n",
      " -0.45282703  0.77665511 -0.64481853  2.14738517 -0.96017581  0.78575018\n",
      "  0.31014544  0.9899869  -0.07081416 -0.05868315 -0.5133485   1.46628162\n",
      " -0.96262388  1.00507089 -0.17670935  0.25134631 -0.05039215  0.9331794\n",
      "  0.86261446  0.00672388  0.62440487  0.83441592 -0.42460315 -2.1161981\n",
      "  0.33602972 -0.16108596 -0.73168172 -0.17349322 -1.23279631  0.97345451\n",
      " -1.59542769  0.5246867   0.46488621 -1.0064129  -0.57688204 -0.48523127\n",
      " -0.08347966 -0.70209549 -0.64574146  0.95681008  1.07525581 -0.90887868\n",
      " -0.57903165 -0.52435628 -0.72782881  0.31251915]\n"
     ]
    }
   ],
   "source": [
    "np.ravel(my_matrix)\n",
    "# np.ravel(a, order='C')\n",
    "# Return a contiguous flattened array.\n",
    "# A 1-D array, containing the elements of the input, is returned.  A copy is made only if needed.\n",
    "# order : {'C','F', 'A', 'K'}, optional\n",
    "\n",
    "# Use the ravel method on the array object\n",
    "flat_array = my_matrix.ravel()\n",
    "print(flat_array)\n",
    "# the difference between function and method are:\n",
    "# function is not class/object based\n",
    "# method is class/object based\n",
    "# since my_matrix is an object, when we call it directly on it, we call the ravel method, the ravel method is binded on the object\n"
   ]
  },
  {
   "cell_type": "code",
   "execution_count": 84,
   "metadata": {},
   "outputs": [
    {
     "data": {
      "text/plain": [
       "array([[2, 3, 1, 4, 0],\n",
       "       [3, 1, 2, 4, 0],\n",
       "       [4, 0, 1, 3, 2],\n",
       "       [0, 2, 1, 3, 4],\n",
       "       [2, 4, 1, 3, 0],\n",
       "       [2, 0, 4, 1, 3],\n",
       "       [2, 1, 3, 4, 0],\n",
       "       [2, 3, 1, 4, 0],\n",
       "       [0, 1, 2, 3, 4],\n",
       "       [4, 0, 2, 1, 3],\n",
       "       [1, 4, 2, 0, 3],\n",
       "       [3, 1, 0, 4, 2],\n",
       "       [4, 2, 3, 0, 1],\n",
       "       [1, 3, 4, 2, 0],\n",
       "       [0, 3, 4, 2, 1],\n",
       "       [2, 1, 4, 3, 0],\n",
       "       [4, 2, 0, 1, 3],\n",
       "       [2, 3, 4, 1, 0],\n",
       "       [1, 2, 0, 3, 4],\n",
       "       [0, 3, 1, 2, 4]], dtype=int64)"
      ]
     },
     "execution_count": 84,
     "metadata": {},
     "output_type": "execute_result"
    }
   ],
   "source": [
    "np.argsort(my_matrix, axis = 1)\n",
    "# np.argsort(a, axis=-1, kind=None, order=None)\n",
    "# Returns the indices that would sort an array.\n",
    "# Perform an indirect sort along the given axis using the algorithm specified\n",
    "# by the `kind` keyword. It returns an array of indices of the same shape as\n",
    "# `a` that index data along the given axis in sorted order.\n",
    "# axis=1, it sorts the indices within each row.\n",
    "my_matrix.argsort(axis=1)\n",
    "# again, we call the argsort method directly on the matrix object"
   ]
  },
  {
   "cell_type": "code",
   "execution_count": 85,
   "metadata": {},
   "outputs": [
    {
     "data": {
      "text/plain": [
       "array([[ 0.94558533,  0.11473025, -0.99536535, -0.00700605,  0.84251474],\n",
       "       [ 1.33654352, -0.37675069, -1.26685779, -1.81850573,  0.66422493],\n",
       "       [ 0.65198232, -0.04629576, -0.54477063, -1.37600095, -1.3263796 ],\n",
       "       [ 0.29064313,  0.83848107, -0.7726035 , -0.48291781,  0.03739851],\n",
       "       [ 1.39745547,  0.76708879, -1.36643509, -0.03975007, -0.26556503],\n",
       "       [ 0.76906597,  0.90278869, -2.48472914,  1.65708968, -0.67792358],\n",
       "       [ 1.52155003,  0.61244918, -2.92448622,  1.45743158, -0.04305748],\n",
       "       [ 1.9457939 ,  0.76162838, -3.52010377,  1.50257207,  0.33210461],\n",
       "       [-1.15508581, -0.22116749, -3.51275517,  1.51408985,  2.03930966],\n",
       "       [-1.78706745,  0.21125739, -3.66242538,  3.17984056,  1.01991684],\n",
       "       [-1.38079989, -0.93079107, -3.42294826,  5.55197586,  0.56708981],\n",
       "       [-0.60414478, -1.5756096 , -1.27556308,  4.59180004,  1.35283998],\n",
       "       [-0.29399934, -0.5856227 , -1.34637724,  4.5331169 ,  0.83949148],\n",
       "       [ 1.17228228, -1.54824657, -0.34130635,  4.35640755,  1.09083779],\n",
       "       [ 1.12189013, -0.61506718,  0.5213081 ,  4.36313143,  1.71524266],\n",
       "       [ 1.95630605, -1.03967033, -1.59489   ,  4.69916116,  1.5541567 ],\n",
       "       [ 1.22462433, -1.21316355, -2.82768631,  5.67261567, -0.04127099],\n",
       "       [ 1.74931103, -0.74827734, -3.83409921,  5.09573363, -0.52650226],\n",
       "       [ 1.66583138, -1.45037283, -4.47984066,  6.05254371,  0.54875355],\n",
       "       [ 0.7569527 , -2.02940447, -5.00419694,  5.3247149 ,  0.8612727 ]])"
      ]
     },
     "execution_count": 85,
     "metadata": {},
     "output_type": "execute_result"
    }
   ],
   "source": [
    "np.cumsum(my_matrix, axis = 0)\n",
    "#np.cumsum(a, axis=None, dtype=None, out=None)\n",
    "#Return the cumulative sum of the elements along a given axis.\n",
    "#axis=0 will compute the cumulative sum for each column, summing down the rows\n",
    "#the second row will be the sum of first row+its original row values\n",
    "#the third row will be the sum of second row+its original row values\n",
    "my_matrix.cumsum(axis = 0)\n",
    "# again, we call the cumsum method directly on the matrix object"
   ]
  }
 ],
 "metadata": {
  "kernelspec": {
   "display_name": "Python 3 (ipykernel)",
   "language": "python",
   "name": "python3"
  },
  "language_info": {
   "codemirror_mode": {
    "name": "ipython",
    "version": 3
   },
   "file_extension": ".py",
   "mimetype": "text/x-python",
   "name": "python",
   "nbconvert_exporter": "python",
   "pygments_lexer": "ipython3",
   "version": "3.11.5"
  }
 },
 "nbformat": 4,
 "nbformat_minor": 4
}
