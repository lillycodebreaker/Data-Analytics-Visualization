{
 "cells": [
  {
   "cell_type": "markdown",
   "metadata": {},
   "source": [
    "## Retail Data\n",
    "\n",
    "The objective of this assignment is to introduce the pandas DataFrame and some of its associated methods that can help with data wrangling.\n",
    "\n",
    "To do this, we will focus on a Retail Data use case. Suppose we are given historical sales data for 45 stores located in different regions and each store contains a number of departments. There are two datasets of interest here: \n",
    "\n",
    "        1) Sales: Weekly sales by department for each store\n",
    "        2) Stores: Features of each store including 'Type' which indicates the type of store and 'size' which indicates the number of weekly visitors.\n",
    "\n",
    "**Your primary analytical question is this: For each type of store, what is the average weekly sales after excluding holidays?**\n",
    "\n",
    "The dataset for this project can be found here:\n",
    "https://www.kaggle.com/manjeetsingh/retaildataset?select=sales+data-set.csv \n"
   ]
  },
  {
   "cell_type": "markdown",
   "metadata": {},
   "source": [
    "### Task 0: Initial Data Formatting\n",
    "\n",
    "We first start reading in two data frames: sales and stores."
   ]
  },
  {
   "cell_type": "code",
   "execution_count": 1,
   "metadata": {},
   "outputs": [],
   "source": [
    "# import pandas and numpy\n",
    "import pandas as pd\n",
    "import numpy as np"
   ]
  },
  {
   "cell_type": "markdown",
   "metadata": {},
   "source": [
    " *0a)* use pd.read_csv() to load the data frames"
   ]
  },
  {
   "cell_type": "code",
   "execution_count": 2,
   "metadata": {},
   "outputs": [],
   "source": [
    "# Read in the sales csv as a pandas data frame\n",
    "sales =  pd.read_csv('sales.csv')\n",
    "\n",
    "# Read in the stores csv as a pandas data frame\n",
    "stores =  pd.read_csv('stores.csv')"
   ]
  },
  {
   "cell_type": "markdown",
   "metadata": {},
   "source": [
    "*0b)* Take a look at the data for *stores* using some of the pd.DataFrame methods. Consider .value_counts(), .head(), .tail(), .info(). Briefly describe your findings in a text chunk."
   ]
  },
  {
   "cell_type": "code",
   "execution_count": 3,
   "metadata": {},
   "outputs": [
    {
     "data": {
      "text/plain": [
       "Store  Type  Size  \n",
       "1      A     151315    1\n",
       "24     A     203819    1\n",
       "26     A     152513    1\n",
       "27     A     204184    1\n",
       "28     A     206302    1\n",
       "29     B     93638     1\n",
       "30     C     42988     1\n",
       "31     A     203750    1\n",
       "32     A     203007    1\n",
       "33     A     39690     1\n",
       "34     A     158114    1\n",
       "35     B     103681    1\n",
       "36     A     39910     1\n",
       "37     C     39910     1\n",
       "38     C     39690     1\n",
       "39     A     184109    1\n",
       "40     A     155083    1\n",
       "41     A     196321    1\n",
       "42     C     39690     1\n",
       "43     C     41062     1\n",
       "44     C     39910     1\n",
       "25     B     128107    1\n",
       "23     B     114533    1\n",
       "2      A     202307    1\n",
       "22     B     119557    1\n",
       "3      B     37392     1\n",
       "4      A     205863    1\n",
       "5      B     34875     1\n",
       "6      A     202505    1\n",
       "7      B     70713     1\n",
       "8      A     155078    1\n",
       "9      B     125833    1\n",
       "10     B     126512    1\n",
       "11     A     207499    1\n",
       "12     B     112238    1\n",
       "13     A     219622    1\n",
       "14     A     200898    1\n",
       "15     B     123737    1\n",
       "16     B     57197     1\n",
       "17     B     93188     1\n",
       "18     B     120653    1\n",
       "19     A     203819    1\n",
       "20     A     203742    1\n",
       "21     B     140167    1\n",
       "45     B     118221    1\n",
       "Name: count, dtype: int64"
      ]
     },
     "execution_count": 3,
     "metadata": {},
     "output_type": "execute_result"
    }
   ],
   "source": [
    "stores.value_counts()"
   ]
  },
  {
   "cell_type": "markdown",
   "metadata": {},
   "source": [
    "The output of 'stores.value_counts()' shows the count of unique combinations of\n",
    "the Store, Type, and Size columns. Each row in the output represents a unique\n",
    "combination of these 3 colums along with the count of occurrences. "
   ]
  },
  {
   "cell_type": "code",
   "execution_count": 4,
   "metadata": {},
   "outputs": [
    {
     "data": {
      "text/html": [
       "<div>\n",
       "<style scoped>\n",
       "    .dataframe tbody tr th:only-of-type {\n",
       "        vertical-align: middle;\n",
       "    }\n",
       "\n",
       "    .dataframe tbody tr th {\n",
       "        vertical-align: top;\n",
       "    }\n",
       "\n",
       "    .dataframe thead th {\n",
       "        text-align: right;\n",
       "    }\n",
       "</style>\n",
       "<table border=\"1\" class=\"dataframe\">\n",
       "  <thead>\n",
       "    <tr style=\"text-align: right;\">\n",
       "      <th></th>\n",
       "      <th>Store</th>\n",
       "      <th>Type</th>\n",
       "      <th>Size</th>\n",
       "    </tr>\n",
       "  </thead>\n",
       "  <tbody>\n",
       "    <tr>\n",
       "      <th>0</th>\n",
       "      <td>1</td>\n",
       "      <td>A</td>\n",
       "      <td>151315</td>\n",
       "    </tr>\n",
       "    <tr>\n",
       "      <th>1</th>\n",
       "      <td>2</td>\n",
       "      <td>A</td>\n",
       "      <td>202307</td>\n",
       "    </tr>\n",
       "    <tr>\n",
       "      <th>2</th>\n",
       "      <td>3</td>\n",
       "      <td>B</td>\n",
       "      <td>37392</td>\n",
       "    </tr>\n",
       "    <tr>\n",
       "      <th>3</th>\n",
       "      <td>4</td>\n",
       "      <td>A</td>\n",
       "      <td>205863</td>\n",
       "    </tr>\n",
       "    <tr>\n",
       "      <th>4</th>\n",
       "      <td>5</td>\n",
       "      <td>B</td>\n",
       "      <td>34875</td>\n",
       "    </tr>\n",
       "  </tbody>\n",
       "</table>\n",
       "</div>"
      ],
      "text/plain": [
       "   Store Type    Size\n",
       "0      1    A  151315\n",
       "1      2    A  202307\n",
       "2      3    B   37392\n",
       "3      4    A  205863\n",
       "4      5    B   34875"
      ]
     },
     "execution_count": 4,
     "metadata": {},
     "output_type": "execute_result"
    }
   ],
   "source": [
    "stores.head()"
   ]
  },
  {
   "cell_type": "markdown",
   "metadata": {},
   "source": [
    "The output of 'stores.head()' displays the first five rows of the dataset and shows the details for the stores to include the type of store and its relative size. From the first five rows, we can visalize that Type A stores are generally larger than Type B stores indicating that Type A stores receive more weekly vistors. "
   ]
  },
  {
   "cell_type": "code",
   "execution_count": 5,
   "metadata": {},
   "outputs": [
    {
     "data": {
      "text/html": [
       "<div>\n",
       "<style scoped>\n",
       "    .dataframe tbody tr th:only-of-type {\n",
       "        vertical-align: middle;\n",
       "    }\n",
       "\n",
       "    .dataframe tbody tr th {\n",
       "        vertical-align: top;\n",
       "    }\n",
       "\n",
       "    .dataframe thead th {\n",
       "        text-align: right;\n",
       "    }\n",
       "</style>\n",
       "<table border=\"1\" class=\"dataframe\">\n",
       "  <thead>\n",
       "    <tr style=\"text-align: right;\">\n",
       "      <th></th>\n",
       "      <th>Store</th>\n",
       "      <th>Type</th>\n",
       "      <th>Size</th>\n",
       "    </tr>\n",
       "  </thead>\n",
       "  <tbody>\n",
       "    <tr>\n",
       "      <th>40</th>\n",
       "      <td>41</td>\n",
       "      <td>A</td>\n",
       "      <td>196321</td>\n",
       "    </tr>\n",
       "    <tr>\n",
       "      <th>41</th>\n",
       "      <td>42</td>\n",
       "      <td>C</td>\n",
       "      <td>39690</td>\n",
       "    </tr>\n",
       "    <tr>\n",
       "      <th>42</th>\n",
       "      <td>43</td>\n",
       "      <td>C</td>\n",
       "      <td>41062</td>\n",
       "    </tr>\n",
       "    <tr>\n",
       "      <th>43</th>\n",
       "      <td>44</td>\n",
       "      <td>C</td>\n",
       "      <td>39910</td>\n",
       "    </tr>\n",
       "    <tr>\n",
       "      <th>44</th>\n",
       "      <td>45</td>\n",
       "      <td>B</td>\n",
       "      <td>118221</td>\n",
       "    </tr>\n",
       "  </tbody>\n",
       "</table>\n",
       "</div>"
      ],
      "text/plain": [
       "    Store Type    Size\n",
       "40     41    A  196321\n",
       "41     42    C   39690\n",
       "42     43    C   41062\n",
       "43     44    C   39910\n",
       "44     45    B  118221"
      ]
     },
     "execution_count": 5,
     "metadata": {},
     "output_type": "execute_result"
    }
   ],
   "source": [
    "# Display the last few rows of the stores data frame\n",
    "stores.tail()"
   ]
  },
  {
   "cell_type": "markdown",
   "metadata": {},
   "source": [
    "Similarly to the output of '.head()', 'stores.tail()' displays the last five rows of the dataset and shows the details for the stores to include the type of store and its relative size. Again, we can note that Type A stores receive more weekly visitors than Type B or C stores."
   ]
  },
  {
   "cell_type": "code",
   "execution_count": 6,
   "metadata": {},
   "outputs": [
    {
     "name": "stdout",
     "output_type": "stream",
     "text": [
      "<class 'pandas.core.frame.DataFrame'>\n",
      "RangeIndex: 45 entries, 0 to 44\n",
      "Data columns (total 3 columns):\n",
      " #   Column  Non-Null Count  Dtype \n",
      "---  ------  --------------  ----- \n",
      " 0   Store   45 non-null     int64 \n",
      " 1   Type    45 non-null     object\n",
      " 2   Size    45 non-null     int64 \n",
      "dtypes: int64(2), object(1)\n",
      "memory usage: 1.2+ KB\n"
     ]
    }
   ],
   "source": [
    "# Display summary information about the stores data frame\n",
    "stores.info()"
   ]
  },
  {
   "cell_type": "markdown",
   "metadata": {},
   "source": [
    "The output of 'stores.info()' provides a summary of the stores data frame. There are 3 columns in the data frame with 45 rows. Column 0 is the unique store number and is an integer data type. Column 1 is the type of store - A, B, or C - and is a string data type. Column 3 is the size of the store and is an integer data type. There are no missing values in any of the columns."
   ]
  },
  {
   "cell_type": "markdown",
   "metadata": {},
   "source": [
    "### Task 1: Modifying a column"
   ]
  },
  {
   "cell_type": "markdown",
   "metadata": {},
   "source": [
    "*1a)* Add comments to describe the function of the following code"
   ]
  },
  {
   "cell_type": "code",
   "execution_count": 7,
   "metadata": {},
   "outputs": [],
   "source": [
    "# This converts the values in the 'Date' column of the sales \n",
    "# DataFrame to a datetime format and updates the 'Date' column with these \n",
    "#converted values.\n",
    "\n",
    "# N.B. the origional code \"sales.loc[:, 'Date'] = pd.to_datetime(sales['Date'])\" had to be \n",
    "# modified slightly due to syntax errors and a deprecation warning. \n",
    "sales.loc[:, 'Date'] = pd.to_datetime(sales['Date'], format='%d/%m/%Y')"
   ]
  },
  {
   "cell_type": "code",
   "execution_count": 8,
   "metadata": {},
   "outputs": [],
   "source": [
    "# Create a new column named Store_Size based on if the corresponding value in\n",
    "#the Size column is greater than 100,000, then set the Store_Size to 'Large', \n",
    "#otherwise set the value to 'Small'\n",
    "stores.loc[:, 'Store_Size'] = np.where(stores['Size'] > 100000, \"Large\", \"Small\")"
   ]
  },
  {
   "cell_type": "markdown",
   "metadata": {},
   "source": [
    "*1b)* Modify the *IsHoliday* column so it has a value of 0 for False and 1 for True"
   ]
  },
  {
   "cell_type": "code",
   "execution_count": 9,
   "metadata": {},
   "outputs": [],
   "source": [
    "# This will look in the 'sales' DataFrame for the column 'IsHoliday' and \n",
    "# within that column assign a 0 if the value is 'False' and a 1 if the value is 'True'\n",
    "sales['IsHoliday'] = sales['IsHoliday'].astype(int)"
   ]
  },
  {
   "cell_type": "markdown",
   "metadata": {},
   "source": [
    "### Task 2: Filtering the data frame"
   ]
  },
  {
   "cell_type": "markdown",
   "metadata": {},
   "source": [
    "*2a)* Use the *.query()* data frame method to filter out the observations occurring on a holiday."
   ]
  },
  {
   "cell_type": "code",
   "execution_count": 10,
   "metadata": {},
   "outputs": [
    {
     "data": {
      "text/html": [
       "<div>\n",
       "<style scoped>\n",
       "    .dataframe tbody tr th:only-of-type {\n",
       "        vertical-align: middle;\n",
       "    }\n",
       "\n",
       "    .dataframe tbody tr th {\n",
       "        vertical-align: top;\n",
       "    }\n",
       "\n",
       "    .dataframe thead th {\n",
       "        text-align: right;\n",
       "    }\n",
       "</style>\n",
       "<table border=\"1\" class=\"dataframe\">\n",
       "  <thead>\n",
       "    <tr style=\"text-align: right;\">\n",
       "      <th></th>\n",
       "      <th>Store</th>\n",
       "      <th>Dept</th>\n",
       "      <th>Date</th>\n",
       "      <th>Weekly_Sales</th>\n",
       "      <th>IsHoliday</th>\n",
       "    </tr>\n",
       "  </thead>\n",
       "  <tbody>\n",
       "    <tr>\n",
       "      <th>0</th>\n",
       "      <td>1</td>\n",
       "      <td>1</td>\n",
       "      <td>2010-02-05 00:00:00</td>\n",
       "      <td>24924.50</td>\n",
       "      <td>0</td>\n",
       "    </tr>\n",
       "    <tr>\n",
       "      <th>2</th>\n",
       "      <td>1</td>\n",
       "      <td>1</td>\n",
       "      <td>2010-02-19 00:00:00</td>\n",
       "      <td>41595.55</td>\n",
       "      <td>0</td>\n",
       "    </tr>\n",
       "    <tr>\n",
       "      <th>3</th>\n",
       "      <td>1</td>\n",
       "      <td>1</td>\n",
       "      <td>2010-02-26 00:00:00</td>\n",
       "      <td>19403.54</td>\n",
       "      <td>0</td>\n",
       "    </tr>\n",
       "    <tr>\n",
       "      <th>4</th>\n",
       "      <td>1</td>\n",
       "      <td>1</td>\n",
       "      <td>2010-03-05 00:00:00</td>\n",
       "      <td>21827.90</td>\n",
       "      <td>0</td>\n",
       "    </tr>\n",
       "    <tr>\n",
       "      <th>5</th>\n",
       "      <td>1</td>\n",
       "      <td>1</td>\n",
       "      <td>2010-03-12 00:00:00</td>\n",
       "      <td>21043.39</td>\n",
       "      <td>0</td>\n",
       "    </tr>\n",
       "    <tr>\n",
       "      <th>...</th>\n",
       "      <td>...</td>\n",
       "      <td>...</td>\n",
       "      <td>...</td>\n",
       "      <td>...</td>\n",
       "      <td>...</td>\n",
       "    </tr>\n",
       "    <tr>\n",
       "      <th>421565</th>\n",
       "      <td>45</td>\n",
       "      <td>98</td>\n",
       "      <td>2012-09-28 00:00:00</td>\n",
       "      <td>508.37</td>\n",
       "      <td>0</td>\n",
       "    </tr>\n",
       "    <tr>\n",
       "      <th>421566</th>\n",
       "      <td>45</td>\n",
       "      <td>98</td>\n",
       "      <td>2012-10-05 00:00:00</td>\n",
       "      <td>628.10</td>\n",
       "      <td>0</td>\n",
       "    </tr>\n",
       "    <tr>\n",
       "      <th>421567</th>\n",
       "      <td>45</td>\n",
       "      <td>98</td>\n",
       "      <td>2012-10-12 00:00:00</td>\n",
       "      <td>1061.02</td>\n",
       "      <td>0</td>\n",
       "    </tr>\n",
       "    <tr>\n",
       "      <th>421568</th>\n",
       "      <td>45</td>\n",
       "      <td>98</td>\n",
       "      <td>2012-10-19 00:00:00</td>\n",
       "      <td>760.01</td>\n",
       "      <td>0</td>\n",
       "    </tr>\n",
       "    <tr>\n",
       "      <th>421569</th>\n",
       "      <td>45</td>\n",
       "      <td>98</td>\n",
       "      <td>2012-10-26 00:00:00</td>\n",
       "      <td>1076.80</td>\n",
       "      <td>0</td>\n",
       "    </tr>\n",
       "  </tbody>\n",
       "</table>\n",
       "<p>391909 rows × 5 columns</p>\n",
       "</div>"
      ],
      "text/plain": [
       "        Store  Dept                 Date  Weekly_Sales  IsHoliday\n",
       "0           1     1  2010-02-05 00:00:00      24924.50          0\n",
       "2           1     1  2010-02-19 00:00:00      41595.55          0\n",
       "3           1     1  2010-02-26 00:00:00      19403.54          0\n",
       "4           1     1  2010-03-05 00:00:00      21827.90          0\n",
       "5           1     1  2010-03-12 00:00:00      21043.39          0\n",
       "...       ...   ...                  ...           ...        ...\n",
       "421565     45    98  2012-09-28 00:00:00        508.37          0\n",
       "421566     45    98  2012-10-05 00:00:00        628.10          0\n",
       "421567     45    98  2012-10-12 00:00:00       1061.02          0\n",
       "421568     45    98  2012-10-19 00:00:00        760.01          0\n",
       "421569     45    98  2012-10-26 00:00:00       1076.80          0\n",
       "\n",
       "[391909 rows x 5 columns]"
      ]
     },
     "execution_count": 10,
     "metadata": {},
     "output_type": "execute_result"
    }
   ],
   "source": [
    "# This simply uses the query method to identify only those elements of the DataFrame that have a'0' in the colimn for \n",
    "#'IsHoliday'.  Note, it does not create a new DataFrame and the sales DataFrame remains in tact. \n",
    "sales.query('IsHoliday == 0')"
   ]
  },
  {
   "cell_type": "markdown",
   "metadata": {},
   "source": [
    "*2b)* Rewrite the code from *2a* using .loc[] and save it to a new data frame"
   ]
  },
  {
   "cell_type": "code",
   "execution_count": 11,
   "metadata": {},
   "outputs": [],
   "source": [
    "# This assigns the new DataFrame of \"sales_no_holiday\" to the filtered DataFrame that excludes the holidays. \n",
    "# New DataFrame name chosen to be more descriptive than \"sales_2b\"\n",
    "sales_2b = sales.loc[sales['IsHoliday'] == 0]"
   ]
  },
  {
   "cell_type": "markdown",
   "metadata": {},
   "source": [
    "### Task 3: Merge *Stores* and *Sales* data frames"
   ]
  },
  {
   "cell_type": "markdown",
   "metadata": {},
   "source": [
    "*3a)* Using the following code as a base, merge the tables using the *merge* method for the pandas DataFrame (not the pd.merge function)"
   ]
  },
  {
   "cell_type": "code",
   "execution_count": 12,
   "metadata": {},
   "outputs": [],
   "source": [
    "# Using the panadas .merge method, we are able to merge the 2 data frames 'stores' and 'sales_2b' data frame using an inner \n",
    "# join and matching the common Store column in both data frames \n",
    "sales_stores = stores.merge(sales_2b, how='inner', on='Store')"
   ]
  },
  {
   "cell_type": "markdown",
   "metadata": {},
   "source": [
    "*3b)* Explain the implications of the type of join you chose (\"left\", \"right\", \"inner\", \"outer\") and why it makes the most sense here. Are there any differences in results if you use a different type of join?\n",
    "\n",
    "*Answer*\n",
    "\n"
   ]
  },
  {
   "cell_type": "markdown",
   "metadata": {},
   "source": [
    "An inner join is the best option to merge the stores and sales_2b data frames because only the rows with matching values in the Stores column will be included and create the new sales_stores data frame. Ultimately, the merged data frame only includes stores that have corresponding sales data and filters out rows from both data frame that do not share a common value in the Stores column. This choice made the most sense because we are ensuring that the merged data consists of information where both stores and sales_2b have corresponding entries and doesn't include rows with NaN values.\n",
    "\n",
    "If we used a \"left\", \"right\", or \"outer\" join then the data frame would include more rows and introduce NaN values in columns where no matches exist between the two data frames, potentially affecting the interpretation of the merged data frame."
   ]
  },
  {
   "cell_type": "markdown",
   "metadata": {},
   "source": [
    "### Task 4: Summarize the data frame"
   ]
  },
  {
   "cell_type": "markdown",
   "metadata": {},
   "source": [
    "*4a)* Add comments to describe the function of the following code"
   ]
  },
  {
   "cell_type": "code",
   "execution_count": 13,
   "metadata": {},
   "outputs": [],
   "source": [
    "# This creates a new dataframe called 'weekly_store_sales' by rearanging the newly combined dataframe 'sales_stores' grouping it\n",
    "# first by individual store, then by the date of sales and then by type (A or B). It then calculates the total sales by suming \n",
    "# the values of 'Weekly_Sales'. It then resets the index of the resulting DataFrame so that the grouped columns \n",
    "# ('Store', 'Date','Type') so that each row retains its values for future manipulation.\n",
    "weekly_store_sales = (sales_stores\n",
    "                      .groupby(['Store', 'Date', 'Type'])['Weekly_Sales']\n",
    "                      .sum()\n",
    "                      .reset_index()\n",
    "                     )"
   ]
  },
  {
   "cell_type": "markdown",
   "metadata": {},
   "source": [
    "*4b)* Recall that our original goal was to characterize weekly sales. We can do this using the simple code below. But we are interested in more than just the mean overall. "
   ]
  },
  {
   "cell_type": "code",
   "execution_count": 14,
   "metadata": {},
   "outputs": [
    {
     "data": {
      "text/plain": [
       "1041256.3802088555"
      ]
     },
     "execution_count": 14,
     "metadata": {},
     "output_type": "execute_result"
    }
   ],
   "source": [
    "# Calculate the mean value of the Weekly_Sales column in the data frame\n",
    "weekly_store_sales['Weekly_Sales'].mean()"
   ]
  },
  {
   "cell_type": "markdown",
   "metadata": {},
   "source": [
    "Extend this question to be more specific, then write the necessary code and answer it. You can consider, for example, different aggregation functions, another variable in the *.groupby()*, or additional filtering. \n",
    "*Explain your findings.*\n",
    "\n",
    "**Revised Question**\n",
    "\n",
    "For each type of store and store size, what is the average and maximum weekly sales after excluding holidays? How does the type of the store influence the average weekly sales?"
   ]
  },
  {
   "cell_type": "code",
   "execution_count": 16,
   "metadata": {},
   "outputs": [
    {
     "name": "stdout",
     "output_type": "stream",
     "text": [
      "        Store  Weekly_Sales_x Store_Size\n",
      "0          20    29386.517928      Large\n",
      "9491        4    29032.260570      Large\n",
      "19036      14    28680.955485      Large\n",
      "28373      13    27261.146969      Large\n",
      "38108       2    26753.864227      Large\n",
      "47624      10    26116.166656      Large\n",
      "57215      27    24714.172533      Large\n",
      "66721       6    21806.854728      Large\n",
      "76211       1    21609.634733      Large\n",
      "85732      39    20905.594997      Large\n",
      "94913      19    20233.689681      Large\n",
      "104346     23    19700.962434      Large\n",
      "113692     31    19585.576618      Large\n",
      "123118     11    19185.338530      Large\n",
      "132473     24    18856.110105      Large\n",
      "141980     28    18567.759341      Large\n",
      "151377     41    17915.373396      Large\n",
      "160754     32    16318.545633      Large\n",
      "170239     18    15641.892529      Large\n",
      "179408     22    15122.879886      Large\n",
      "188416     12    14731.304140      Large\n",
      "197438     26    14491.200754      Large\n",
      "206595     40    13730.522084      Large\n",
      "215902     35    13631.736739      Large\n",
      "224762     34    13443.052068      Large\n",
      "234271     43    13410.729834      Small\n",
      "240550      8    13066.406406      Large\n",
      "249749     17    12862.113716      Small\n",
      "258922     45    11614.648240      Large\n",
      "267879     42    11425.515827      Small\n",
      "274346     21    11204.327405      Large\n",
      "283258     37    10306.767529      Small\n",
      "289965     25    10278.109377      Large\n",
      "299078     15     8920.611276      Large\n",
      "308278     30     8763.636535      Small\n",
      "314936      9     8723.575683      Large\n",
      "323178     36     8597.374014      Small\n",
      "328963      7     8254.246774      Small\n",
      "338034     29     8088.309482      Small\n",
      "346821     16     7820.420632      Small\n",
      "355591     38     7493.363637      Small\n",
      "362443      3     6332.098604      Small\n",
      "370846     44     6046.886331      Small\n",
      "377516     33     5723.280870      Small\n",
      "383550      5     5010.249172      Small\n"
     ]
    }
   ],
   "source": [
    "average_store_sales = (sales_stores\n",
    "                      .groupby(['Store'])['Weekly_Sales']\n",
    "                      .agg('mean')\n",
    "                      .reset_index()\n",
    "                      .sort_values(by='Weekly_Sales', ascending=False)\n",
    "                     )\n",
    "# Merge average stores sales and original data to get store size\n",
    "average_store_sales_full = pd.merge(average_store_sales,\n",
    "                        sales_stores,\n",
    "                       on='Store', how='left')\n",
    "average_store_sales_display = average_store_sales_full[['Store', 'Weekly_Sales_x','Store_Size']].drop_duplicates()\n",
    "print(average_store_sales_display)\n",
    "# This gives us our average weekly sale by store in descending order."
   ]
  },
  {
   "cell_type": "code",
   "execution_count": 20,
   "metadata": {},
   "outputs": [
    {
     "name": "stdout",
     "output_type": "stream",
     "text": [
      "Average Weekly Sales by Store Type:\n",
      "  Type  Weekly_Sales\n",
      "0    A  20008.746759\n",
      "1    B  12153.067752\n",
      "2    C   9518.528116\n",
      "\n",
      "Average and Maximum Weekly Sales by Store Size\n",
      "  Type Store_Size          mean        max\n",
      "0    A      Large  20816.355726  356867.25\n",
      "1    A      Small   7130.052072   78974.83\n",
      "2    B      Large  14277.357602  406988.63\n",
      "3    B      Small   8135.091288  155897.94\n",
      "4    C      Small   9518.528116  112152.35\n"
     ]
    }
   ],
   "source": [
    "# Now, we will calculate the average of weekly_sales by type\n",
    "average_store_type_sales = (sales_stores\n",
    "                      .groupby(['Type'])['Weekly_Sales']\n",
    "                      .mean()\n",
    "                      .reset_index()\n",
    "                      .sort_values(by='Weekly_Sales', ascending=False)\n",
    "                     )\n",
    "print('Average Weekly Sales by Store Type:')\n",
    "print(average_store_type_sales)\n",
    "result_weekly_sales = sales_stores.groupby(['Type', 'Store_Size'])['Weekly_Sales'].agg(['mean','max']).reset_index()\n",
    "print()\n",
    "print('Average and Maximum Weekly Sales by Store Size')\n",
    "print(result_weekly_sales)"
   ]
  },
  {
   "cell_type": "markdown",
   "metadata": {},
   "source": [
    "**Observations**\n",
    "\n",
    "\n",
    "\n"
   ]
  },
  {
   "cell_type": "markdown",
   "metadata": {},
   "source": [
    "The findings offer an insight into the weekly sales performance of the different store types and store sizes. The code from cell 16 calculates the average store sales and merges the data with the sales_stores dataframe. Following this, we grouped each store to their corresponding type (A, B, C) and took their average weekly sales. We then seperated the store type by their store size, giving us mean sales for each store type and size. \n",
    "\n",
    "The data was grouped by store type and size. We calculated both the average and maximum weekly sales for each group. There is a clear distinction in the sales performance of the different store types based on their sizes. The large stores (Type A and B) exhibit higher average and maximum weekly sales compared to their smaller counterparts within the same type. This suggests there is a correlation between store size and weekly sales. \n",
    "\n",
    "Specifically, Type A large stores have a larger average sales compared to small stores. This trend holds for Type B large stores. Type C stores, which only contain small stores, show a lower average maximum weekly sales compared to Type B stores but a higher average and maximum weekly sales compared to Type A stores indicating a different sales profile for smaller stores between the three types of stores. \n",
    "\n",
    "The findings emphasize the influence of both store type and size on weekly sales performance, with larger stores consistently demonstrating higher sales."
   ]
  },
  {
   "cell_type": "markdown",
   "metadata": {},
   "source": [
    "### Task 5: Method Chaining\n",
    "Complete tasks 2a, 3a and 4a in a single code chunk using method chaining"
   ]
  },
  {
   "cell_type": "code",
   "execution_count": 18,
   "metadata": {},
   "outputs": [
    {
     "data": {
      "text/html": [
       "<div>\n",
       "<style scoped>\n",
       "    .dataframe tbody tr th:only-of-type {\n",
       "        vertical-align: middle;\n",
       "    }\n",
       "\n",
       "    .dataframe tbody tr th {\n",
       "        vertical-align: top;\n",
       "    }\n",
       "\n",
       "    .dataframe thead th {\n",
       "        text-align: right;\n",
       "    }\n",
       "</style>\n",
       "<table border=\"1\" class=\"dataframe\">\n",
       "  <thead>\n",
       "    <tr style=\"text-align: right;\">\n",
       "      <th></th>\n",
       "      <th>Store</th>\n",
       "      <th>Date</th>\n",
       "      <th>Type</th>\n",
       "      <th>Weekly_Sales</th>\n",
       "    </tr>\n",
       "  </thead>\n",
       "  <tbody>\n",
       "    <tr>\n",
       "      <th>0</th>\n",
       "      <td>1</td>\n",
       "      <td>2010-02-05</td>\n",
       "      <td>A</td>\n",
       "      <td>1643690.90</td>\n",
       "    </tr>\n",
       "    <tr>\n",
       "      <th>1</th>\n",
       "      <td>1</td>\n",
       "      <td>2010-02-19</td>\n",
       "      <td>A</td>\n",
       "      <td>1611968.17</td>\n",
       "    </tr>\n",
       "    <tr>\n",
       "      <th>2</th>\n",
       "      <td>1</td>\n",
       "      <td>2010-02-26</td>\n",
       "      <td>A</td>\n",
       "      <td>1409727.59</td>\n",
       "    </tr>\n",
       "    <tr>\n",
       "      <th>3</th>\n",
       "      <td>1</td>\n",
       "      <td>2010-03-05</td>\n",
       "      <td>A</td>\n",
       "      <td>1554806.68</td>\n",
       "    </tr>\n",
       "    <tr>\n",
       "      <th>4</th>\n",
       "      <td>1</td>\n",
       "      <td>2010-03-12</td>\n",
       "      <td>A</td>\n",
       "      <td>1439541.59</td>\n",
       "    </tr>\n",
       "    <tr>\n",
       "      <th>...</th>\n",
       "      <td>...</td>\n",
       "      <td>...</td>\n",
       "      <td>...</td>\n",
       "      <td>...</td>\n",
       "    </tr>\n",
       "    <tr>\n",
       "      <th>5980</th>\n",
       "      <td>45</td>\n",
       "      <td>2012-09-28</td>\n",
       "      <td>B</td>\n",
       "      <td>713173.95</td>\n",
       "    </tr>\n",
       "    <tr>\n",
       "      <th>5981</th>\n",
       "      <td>45</td>\n",
       "      <td>2012-10-05</td>\n",
       "      <td>B</td>\n",
       "      <td>733455.07</td>\n",
       "    </tr>\n",
       "    <tr>\n",
       "      <th>5982</th>\n",
       "      <td>45</td>\n",
       "      <td>2012-10-12</td>\n",
       "      <td>B</td>\n",
       "      <td>734464.36</td>\n",
       "    </tr>\n",
       "    <tr>\n",
       "      <th>5983</th>\n",
       "      <td>45</td>\n",
       "      <td>2012-10-19</td>\n",
       "      <td>B</td>\n",
       "      <td>718125.53</td>\n",
       "    </tr>\n",
       "    <tr>\n",
       "      <th>5984</th>\n",
       "      <td>45</td>\n",
       "      <td>2012-10-26</td>\n",
       "      <td>B</td>\n",
       "      <td>760281.43</td>\n",
       "    </tr>\n",
       "  </tbody>\n",
       "</table>\n",
       "<p>5985 rows × 4 columns</p>\n",
       "</div>"
      ],
      "text/plain": [
       "      Store       Date Type  Weekly_Sales\n",
       "0         1 2010-02-05    A    1643690.90\n",
       "1         1 2010-02-19    A    1611968.17\n",
       "2         1 2010-02-26    A    1409727.59\n",
       "3         1 2010-03-05    A    1554806.68\n",
       "4         1 2010-03-12    A    1439541.59\n",
       "...     ...        ...  ...           ...\n",
       "5980     45 2012-09-28    B     713173.95\n",
       "5981     45 2012-10-05    B     733455.07\n",
       "5982     45 2012-10-12    B     734464.36\n",
       "5983     45 2012-10-19    B     718125.53\n",
       "5984     45 2012-10-26    B     760281.43\n",
       "\n",
       "[5985 rows x 4 columns]"
      ]
     },
     "execution_count": 18,
     "metadata": {},
     "output_type": "execute_result"
    }
   ],
   "source": [
    "# Task 2a: Use .query() to filter out observations occurring on a holiday\n",
    "# Task 3a: Merge the tables using the merge method for the pandas DataFrame\n",
    "# Task 4a: Add comments to describe the function of the following code\n",
    "new_weekly_store_sales = (stores\n",
    "                          .merge(sales.loc[sales['IsHoliday'] == 0], on='Store', how = 'inner') # Merge 'stores' and 'sales_2a' on 'Store'\n",
    "                          .groupby(['Store', 'Date', 'Type'])['Weekly_Sales'] # Group by 'Store', 'Date', and 'Type'\n",
    "                          .sum()  # Sum the 'Weekly_Sales' for each group\n",
    "                          .reset_index() # Reset the index to make the resulting data frame easier to r\n",
    "                         )\n",
    "new_weekly_store_sales"
   ]
  }
 ],
 "metadata": {
  "kernelspec": {
   "display_name": "Python 3 (ipykernel)",
   "language": "python",
   "name": "python3"
  },
  "language_info": {
   "codemirror_mode": {
    "name": "ipython",
    "version": 3
   },
   "file_extension": ".py",
   "mimetype": "text/x-python",
   "name": "python",
   "nbconvert_exporter": "python",
   "pygments_lexer": "ipython3",
   "version": "3.11.5"
  }
 },
 "nbformat": 4,
 "nbformat_minor": 4
}
